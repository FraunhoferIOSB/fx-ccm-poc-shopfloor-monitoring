{
 "cells": [
  {
   "cell_type": "code",
   "execution_count": 1,
   "metadata": {},
   "outputs": [],
   "source": [
    "import requests # Apache License 2.0\n",
    "from requests.auth import HTTPBasicAuth\n",
    "\n",
    "import uuid     # in python\n",
    "import base64   # in python\n",
    "import yaml     # MIT\n",
    "\n",
    "from app.utils import make_create_secure_asset_body, create_generic_Access_PolicyDefinitionRequest_body, create_generic_Usage_PolicyDefinitionRequest_body, create_generic_ContractDefinitionRequest_body, print_edc_assets"
   ]
  },
  {
   "cell_type": "code",
   "execution_count": 2,
   "metadata": {},
   "outputs": [],
   "source": [
    "# This script creates an asset for a submodel in the Provider-EDC\n",
    "# + access and usage policies\n",
    "# + contract binding all three parts together"
   ]
  },
  {
   "cell_type": "code",
   "execution_count": 4,
   "metadata": {},
   "outputs": [],
   "source": [
    "# --- variables ---\n",
    "with open('provider_cfg.yaml', 'r') as file:\n",
    "    consumer_cfg = yaml.safe_load(file)\n",
    "\n",
    "# - control plane -\n",
    "url_edc_provider_control_plane_base = consumer_cfg['provider-edc-control-plane']['endpoint']\n",
    "header_control_plane = consumer_cfg['provider-edc-control-plane']['header'] # this contains secrets, so please use -at least- a secretsmanager instead\n",
    "\n",
    "# construct urls based on standard:\n",
    "url_edc_provider_asset_management    = url_edc_provider_control_plane_base + \"/management/v3/assets\"\n",
    "url_edc_provider_policy_management   = url_edc_provider_control_plane_base + \"/management/v2/policydefinitions\"\n",
    "url_edc_provider_contract_management = url_edc_provider_control_plane_base + \"/management/v2/contractdefinitions\"\n",
    "\n",
    "\n",
    "# - \"identities\" -\n",
    "edc_consumer_bpn = consumer_cfg['trusted-consumers-bpn']['machine_builder_A']\n",
    "\n",
    "\n",
    "# - submodel repository -\n",
    "submodel_repo_url = consumer_cfg['submodel-repository']['endpoint'] \n",
    "proxy_auth_header = consumer_cfg['submodel-repository']['authtoken'] "
   ]
  },
  {
   "cell_type": "code",
   "execution_count": null,
   "metadata": {},
   "outputs": [],
   "source": [
    "# look up the existing assets:\n",
    "res_get_assets = requests.post(url_edc_provider_asset_management + \"/request\", headers=header_control_plane)\n",
    "print_edc_assets(res_get_assets)"
   ]
  },
  {
   "cell_type": "code",
   "execution_count": null,
   "metadata": {},
   "outputs": [],
   "source": [
    "# - create EDC-Asset -\n",
    "# the asset is here a submodel\n",
    "target_url = submodel_repo_url + \"/submodels/\" + \"MWQzOGE4ZDgtYzY3Ni00ZDliLWIxNTEtMjc3OTUzZDNiM2E1\"\n",
    "\n",
    "edc_asset_id   = \"1d38a8d8-c676-4d9b-b151-277953d3b3a5\"\n",
    "edc_asset_type = \"Submodel\" # according to https://w3id.org/catenax/taxonomy#Submodel\n",
    "\n",
    "\n",
    "create_asset_body = make_create_secure_asset_body(edc_asset_id, edc_asset_type, target_url, proxy_auth_header)\n",
    "# register asset:\n",
    "res_create_edc_asset = requests.post(url_edc_provider_asset_management, headers=header_control_plane, json=create_asset_body)\n",
    "res_create_edc_asset"
   ]
  },
  {
   "cell_type": "code",
   "execution_count": null,
   "metadata": {},
   "outputs": [],
   "source": [
    "# - cheack if the asset exists already -\n",
    "# look up the existing assets (not sure why a post again):\n",
    "res_get_assets = requests.post(url_edc_provider_asset_management + \"/request\", headers=header_control_plane)\n",
    "\n",
    "if res_get_assets.status_code == 200:\n",
    "    asset_ids = [retrived_asset[\"@id\"] for retrived_asset in res_get_assets.json()]\n",
    "    if  edc_asset_id in asset_ids:\n",
    "        print('Asset already exits ... resolving conflict via update')\n",
    "    else:\n",
    "        print(\"Asset doesn't exist, conflict reason unknown.\")\n",
    "\n",
    "else:\n",
    "    print('Request Error: ' + str(res_get_assets.status_code))"
   ]
  },
  {
   "cell_type": "code",
   "execution_count": null,
   "metadata": {},
   "outputs": [],
   "source": [
    "# create:\n",
    "res_update_edc_asset = requests.put(url_edc_provider_asset_management, headers=header_control_plane, json=create_asset_body)\n",
    "res_update_edc_asset"
   ]
  },
  {
   "cell_type": "code",
   "execution_count": null,
   "metadata": {},
   "outputs": [],
   "source": [
    "# look up the existing assets (not sure why a post again):\n",
    "res_get_assets = requests.post(url_edc_provider_asset_management + \"/request\", headers=header_control_plane)\n",
    "print_edc_assets(res_get_assets)"
   ]
  },
  {
   "cell_type": "code",
   "execution_count": 8,
   "metadata": {},
   "outputs": [],
   "source": [
    "# # remove assets:\n",
    "# asset_deletion_body = {\n",
    "#     \"@context\": \"https://w3id.org/edc/v0.0.1/ns/\",    \n",
    "#     \"@id\": \"test_AAS_registration_C_3\",\n",
    "# }\n",
    "# res_delete_edc_asset = requests.delete(url_edc_provider_asset_management, headers=header_control_plane, json=create_asset_body)\n",
    "# res_delete_edc_asset"
   ]
  },
  {
   "cell_type": "code",
   "execution_count": 9,
   "metadata": {},
   "outputs": [],
   "source": [
    "# ------------------------------------------------------------------------------------------------------"
   ]
  },
  {
   "cell_type": "markdown",
   "metadata": {},
   "source": [
    "### Assing a Policy to the created Asset"
   ]
  },
  {
   "cell_type": "code",
   "execution_count": null,
   "metadata": {},
   "outputs": [],
   "source": [
    "# create access policy:\n",
    "create_access_policy_body = create_generic_Access_PolicyDefinitionRequest_body(\"access-policy-generic\", edc_consumer_bpn, policy_action=\"use\")\n",
    "\n",
    "res_create_asset_access_plicy = requests.post(url_edc_provider_policy_management, headers=header_control_plane, json=create_access_policy_body)\n",
    "res_create_asset_access_plicy # post against: \"{{EDCTX-10-1-URL}}/management/v2/policydefinitions\""
   ]
  },
  {
   "cell_type": "code",
   "execution_count": null,
   "metadata": {},
   "outputs": [],
   "source": [
    "# create usage policy:\n",
    "create_usage_policy_body = create_generic_Usage_PolicyDefinitionRequest_body('usage-policy-generic', policy_action=\"use\") \n",
    "\n",
    "res_create_asset_usage_plicy = requests.post(url_edc_provider_policy_management, headers=header_control_plane, json=create_usage_policy_body)\n",
    "res_create_asset_usage_plicy # post against: \"{{EDCTX-10-1-URL}}/management/v2/policydefinitions\""
   ]
  },
  {
   "cell_type": "code",
   "execution_count": 11,
   "metadata": {},
   "outputs": [],
   "source": [
    "# -----------------------------------------------------------------------------------------------------------------------"
   ]
  },
  {
   "cell_type": "code",
   "execution_count": null,
   "metadata": {},
   "outputs": [],
   "source": [
    "# create contract:\n",
    "contract_id = \"demo_contract\"\n",
    "access_policy_id = create_access_policy_body['@id']\n",
    "usage_policy_id  = create_usage_policy_body['@id']\n",
    "asset_id         = create_asset_body['@id']\n",
    "\n",
    "\n",
    "create_contract_body = create_generic_ContractDefinitionRequest_body(asset_id, contract_id, access_policy_id, usage_policy_id)\n",
    "\n",
    "res_create_asset_contract = requests.post(url_edc_provider_contract_management, headers=header_control_plane, json=create_contract_body)\n",
    "res_create_asset_contract # post against: \"url\": \"{{EDCTX-10-1-URL}}/management/v2/contractdefinitions\""
   ]
  },
  {
   "cell_type": "code",
   "execution_count": null,
   "metadata": {},
   "outputs": [],
   "source": [
    "# - which policies are registered with the provider -\n",
    "res_policies = requests.post(url_edc_provider_contract_management + \"/request\", headers=header_control_plane)\n",
    "print(res_policies)\n",
    "\n",
    "print(\"{idx:8} {id:28} {asset_id:42} {accespolicy:28} {usagepolicy:28}\".format(idx=\"Index\", id=\"id\", asset_id=\"Asset\", accespolicy=\"Access Policy\", usagepolicy=\"Usage Policy\"))\n",
    "print(\"-\"*8 + \" \" + \"-\"*28 + \" \" + \"-\"*42 + \" \" + \"-\"*28 + \" \" + \"-\"*28)\n",
    "\n",
    "for idx, retrived_contract in enumerate(res_policies.json()):\n",
    "    # get asset\n",
    "    try:    # please don't do this ...\n",
    "        asset_ = retrived_contract['assetsSelector'][0]['operandRight']\n",
    "    except:\n",
    "        try:\n",
    "            asset_ = retrived_contract['assetsSelector']['operandRight']\n",
    "        except:\n",
    "            asset_ = \"None\"\n",
    "    print(\"{idx:8} {id:28} {asset_id:42} {accespolicy:28} {usagepolicy:28}\".format(idx=str(idx)+ \":\", id=retrived_contract[\"@id\"], \n",
    "                                                asset_id=asset_,\n",
    "                                                accespolicy=retrived_contract['accessPolicyId'], usagepolicy=retrived_contract['contractPolicyId']))"
   ]
  }
 ],
 "metadata": {
  "kernelspec": {
   "display_name": ".env",
   "language": "python",
   "name": "python3"
  },
  "language_info": {
   "codemirror_mode": {
    "name": "ipython",
    "version": 3
   },
   "file_extension": ".py",
   "mimetype": "text/x-python",
   "name": "python",
   "nbconvert_exporter": "python",
   "pygments_lexer": "ipython3",
   "version": "3.10.11"
  }
 },
 "nbformat": 4,
 "nbformat_minor": 2
}
