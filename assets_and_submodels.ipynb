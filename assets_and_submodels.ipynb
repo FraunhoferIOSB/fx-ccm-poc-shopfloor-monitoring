{
 "cells": [
  {
   "cell_type": "code",
   "execution_count": 1,
   "metadata": {},
   "outputs": [],
   "source": [
    "import requests # Apache License 2.0\n",
    "from requests.auth import HTTPBasicAuth\n",
    "\n",
    "import uuid     # in python\n",
    "import base64   # in python\n",
    "import copy     # in python\n",
    "import yaml     # MIT\n",
    "\n",
    "\n",
    "from app.utils import print_shelldescriptors, print_submodels, get_submodel_template, get_submodel_element_blob_template"
   ]
  },
  {
   "cell_type": "code",
   "execution_count": 2,
   "metadata": {},
   "outputs": [],
   "source": [
    "# --- variables ---\n",
    "with open('provider_cfg.yaml', 'r') as file:\n",
    "    consumer_cfg = yaml.safe_load(file)\n",
    "\n",
    "# - repository -\n",
    "credentials_repository = consumer_cfg['submodel-repository']['credentials']\n",
    "endpoint_repository    = consumer_cfg['submodel-repository']['endpoint']\n",
    "\n",
    "# - registry -\n",
    "header_registry   = consumer_cfg['registry']['header']\n",
    "endpoint_registry = consumer_cfg['registry']['endpoint']\n",
    "# to add the endpoint where we can negotiate for this asset\n",
    "url_edc_provider_control_plane_base = consumer_cfg['provider-edc-control-plane']['endpoint']\n",
    "\n",
    "# - \"identities\" -\n",
    "edc_consumer_bpn = consumer_cfg['trusted-consumers-bpn']['machine_builder_A']\n",
    "\n",
    "# --- helper functions ---\n",
    "# we require the AAS id to be b64 encoded (for example because some ids contain urls)\n",
    "def to64str(str_in):\n",
    "    b64 = base64.b64encode(str_in.encode('utf-8')).decode('utf-8')\n",
    "    return b64"
   ]
  },
  {
   "cell_type": "code",
   "execution_count": null,
   "metadata": {},
   "outputs": [],
   "source": [
    "# obtain 'all' (w.r.t. the default tenant) registred shell descriptors\n",
    "res_descriptors = requests.get(endpoint_registry + '/shell-descriptors', headers=header_registry)\n",
    "print_shelldescriptors(res_descriptors)"
   ]
  },
  {
   "cell_type": "markdown",
   "metadata": {},
   "source": [
    "### Create a new Asset -> Digital Twin"
   ]
  },
  {
   "cell_type": "code",
   "execution_count": null,
   "metadata": {},
   "outputs": [],
   "source": [
    "# lets create a shell-descriptor according to:\n",
    "# https://eclipse-tractusx.github.io/docs-kits/next/kits/Digital%20Twin%20Kit/Software%20Development%20View/dt-kit-software-development-view\n",
    "\n",
    "urn_uuid   = uuid.uuid4() \n",
    "asset_name = \"demo-test-fr\"\n",
    "print(\"Asset \" + asset_name + \" with UUID: \" + str(urn_uuid))\n",
    "manufacturerPartId = \"123-456-789-10\"      \n",
    "BPN_consumer       = edc_consumer_bpn # consumer(s) we entrust with this asset data\n",
    "\n",
    "\n",
    "registrate_asset_body = {\n",
    "  \"id\":      \"urn:uuid:\" + str(urn_uuid),\n",
    "  \"idShort\": asset_name,                  # this has to be unique for a reason aswell\n",
    "  \"globalAssetId\": str(urn_uuid),         # <- not in the specification\n",
    "  \"specificAssetIds\": [\n",
    "    {\n",
    "      \"name\": \"manufacturerPartId\",\n",
    "      \"value\": manufacturerPartId,\n",
    "      \"externalSubjectId\": {\n",
    "        \"type\": \"ExternalReference\",\n",
    "        \"keys\": [\n",
    "          {\n",
    "            \"type\": \"GlobalReference\",\n",
    "            \"value\": BPN_consumer       # <- necessary\n",
    "          }\n",
    "        ],\n",
    "      },\n",
    "    }\n",
    "  ],\n",
    "  \"submodelDescriptors\": [],\n",
    "}\n",
    "\n",
    "# post into the registry:\n",
    "res_add_descriptor = requests.post(endpoint_registry + '/shell-descriptors', headers=header_registry, json=registrate_asset_body)\n",
    "res_add_descriptor"
   ]
  },
  {
   "cell_type": "code",
   "execution_count": 44,
   "metadata": {},
   "outputs": [],
   "source": [
    "# ----------------------------------------------------------------------------------------------------------------------"
   ]
  },
  {
   "cell_type": "markdown",
   "metadata": {},
   "source": [
    "### Create Submodel with its Submodel-Elements"
   ]
  },
  {
   "cell_type": "code",
   "execution_count": 76,
   "metadata": {},
   "outputs": [],
   "source": [
    "# create a the corresponding submodel in the SUBMODEL-repository\n",
    "submodel_name = \"TSsubmodel-demo\"\n",
    "submodel_uuid = uuid.uuid4()\n",
    "\n",
    "# Submodel-Element\n",
    "submodel_element_name  = \"Blob-1\"\n",
    "submodel_element_uuid  = uuid.uuid4()\n",
    "submodel_element_value = \"demo value fr 10:32\""
   ]
  },
  {
   "cell_type": "code",
   "execution_count": null,
   "metadata": {},
   "outputs": [],
   "source": [
    "# --- fill tempaltes ---\n",
    "# submodel:\n",
    "submodel = get_submodel_template()\n",
    "\n",
    "submodel[\"idShort\"] = submodel_name # + str(submodel_uuid)\n",
    "submodel[\"id\"]      = str(submodel_uuid)\n",
    "\n",
    "# blob: \n",
    "blob_sme = get_submodel_element_blob_template()\n",
    "blob_sme[\"idShort\"] = submodel_element_name\n",
    "blob_sme[\"id\"]      = str(submodel_element_uuid)\n",
    "\n",
    "\n",
    "payload_byte = submodel_element_value.encode('utf-8')\n",
    "blob_sme[\"contentType\"] = 'application/str'\n",
    "blob_sme[\"value\"]       = base64.b64encode(payload_byte).decode('utf-8')\n",
    "\n",
    "\n",
    "# append submodel element:\n",
    "submodel[\"submodelElements\"].append(blob_sme)\n",
    "\n",
    "\n",
    "# post submodel into the repository\n",
    "res_post_submodel = requests.post(endpoint_repository + '/submodels', auth=HTTPBasicAuth(credentials_repository[\"username\"], credentials_repository[\"password\"]), json=submodel)\n",
    "\n",
    "print(\"{stype:12} {name:12} with UUID: {id:12}\".format(stype='Submodel', name=submodel_name, id=str(submodel_uuid)))\n",
    "print(\"{stype:12} {name:12} with UUID: {id:12}\".format(stype='Submodel', name=submodel_element_name, id=str(submodel_element_uuid)))\n",
    "res_post_submodel"
   ]
  },
  {
   "cell_type": "code",
   "execution_count": null,
   "metadata": {},
   "outputs": [],
   "source": [
    "# get all submodels:\n",
    "res_get_submodels = requests.get(endpoint_repository + '/submodels', auth=HTTPBasicAuth(credentials_repository[\"username\"], credentials_repository[\"password\"]))\n",
    "print_submodels(res_get_submodels)"
   ]
  },
  {
   "cell_type": "code",
   "execution_count": null,
   "metadata": {},
   "outputs": [],
   "source": [
    "# get subelement:\n",
    "res_get_submodel = requests.get(endpoint_repository + '/submodels/' + to64str(str(submodel_uuid)) + '/submodel-elements/$value?extent=WithBlobValue', auth=HTTPBasicAuth(credentials_repository[\"username\"], credentials_repository[\"password\"]))\n",
    "print(res_get_submodel)\n",
    "\n",
    "print(\"Submodel Elements\", res_get_submodel.json()['result'])\n",
    "blob_sme_val = base64.b64decode(res_get_submodel.json()['result'][0][list(res_get_submodel.json()['result'][0].keys())[0]]['value']).decode('utf-8')\n",
    "print(\"Submodel Element Value: \" + blob_sme_val)"
   ]
  },
  {
   "cell_type": "markdown",
   "metadata": {},
   "source": [
    "### Create corresponding Submodel Descriptor"
   ]
  },
  {
   "cell_type": "code",
   "execution_count": null,
   "metadata": {},
   "outputs": [],
   "source": [
    "# lets add submodel descriptors for the shell descriptor (AAS):\n",
    "catalog_id = submodel_uuid # to keep consistency and avoid confusion \n",
    "subprotocolBody = \"id=\" + str(catalog_id) + \";dspEndpoint=\" + url_edc_provider_control_plane_base + \"/api/v1/dsp\"\n",
    "\n",
    "\n",
    "register_submodel_descriptor_body = {\n",
    "  \"id\": str(submodel_uuid),\n",
    "  \"semanticId\": {\n",
    "    \"type\": \"ExternalReference\",\n",
    "    \"keys\": [\n",
    "      {\n",
    "        \"type\": \"GlobalReference\",\n",
    "        \"value\": \"test_semantic\"\n",
    "      }\n",
    "    ]\n",
    "  },\n",
    "  \"endpoints\": [\n",
    "    {\n",
    "      \"interface\": \"SUBMODEL-3.0\",\n",
    "      \"protocolInformation\": {\n",
    "        \"href\": \"url_edc_provider_data_plane\" + \"/submodel\", # <- important, but where is the path mapping registerd?!\n",
    "        \"endpointProtocol\": \"HTTP\",\n",
    "        \"endpointProtocolVersion\": [\n",
    "          \"1.1\"\n",
    "        ],\n",
    "        \"subprotocol\": \"DSP\",\n",
    "        \"subprotocolBody\": subprotocolBody, # <- important\n",
    "        \"subprotocolBodyEncoding\": \"plain\",\n",
    "        \"securityAttributes\": [\n",
    "          {\n",
    "            \"type\":  \"NONE\",\n",
    "            \"key\":   \"NONE\",\n",
    "            \"value\": \"NONE\",\n",
    "          }\n",
    "        ]\n",
    "      }\n",
    "    }\n",
    "  ]\n",
    "}\n",
    "\n",
    "# convert the id to the b64 string s.t. we can use it in the request url\n",
    "b64_aas_id = to64str(\"urn:uuid:\" + str(urn_uuid))\n",
    "\n",
    "# add the submodel descriptor:\n",
    "res_add_submodel_descriptor = requests.post(endpoint_registry + '/shell-descriptors/' +  b64_aas_id + '/submodel-descriptors', \n",
    "                                            headers=header_registry, \n",
    "                                            json=register_submodel_descriptor_body)\n",
    "res_add_submodel_descriptor"
   ]
  },
  {
   "cell_type": "code",
   "execution_count": null,
   "metadata": {},
   "outputs": [],
   "source": [
    "# view created asset\n",
    "res_test_shell = requests.get(endpoint_registry + '/shell-descriptors/' +  b64_aas_id, headers=header_registry)\n",
    "res_test_shell"
   ]
  },
  {
   "cell_type": "code",
   "execution_count": null,
   "metadata": {},
   "outputs": [],
   "source": [
    "res_test_shell.json()['submodelDescriptors']"
   ]
  },
  {
   "cell_type": "markdown",
   "metadata": {},
   "source": [
    "### Key Elements for the Submodel EDC registration"
   ]
  },
  {
   "cell_type": "code",
   "execution_count": null,
   "metadata": {},
   "outputs": [],
   "source": [
    "# For the registration:\n",
    "print(\"{edc_asset_id:15} {catalog_id}\".format(edc_asset_id=\"edc_asset_id:\", catalog_id=str(catalog_id)))\n",
    "print(\"{submodelb64id:15} {catalog_id}\".format(submodelb64id=\"B64-SubmodelID:\", catalog_id=to64str(str(submodel_uuid))))\n"
   ]
  },
  {
   "cell_type": "markdown",
   "metadata": {},
   "source": [
    "### Consumer View"
   ]
  },
  {
   "cell_type": "code",
   "execution_count": null,
   "metadata": {},
   "outputs": [],
   "source": [
    "# do we even need this prviliedge consumer\n",
    "registryHeader_priviledged = {\n",
    "    'Content-Type': 'application/json',\n",
    "    'edc-bpn': BPN_consumer,  \n",
    "}"
   ]
  }
 ],
 "metadata": {
  "kernelspec": {
   "display_name": ".env",
   "language": "python",
   "name": "python3"
  },
  "language_info": {
   "codemirror_mode": {
    "name": "ipython",
    "version": 3
   },
   "file_extension": ".py",
   "mimetype": "text/x-python",
   "name": "python",
   "nbconvert_exporter": "python",
   "pygments_lexer": "ipython3",
   "version": "3.10.11"
  }
 },
 "nbformat": 4,
 "nbformat_minor": 2
}
